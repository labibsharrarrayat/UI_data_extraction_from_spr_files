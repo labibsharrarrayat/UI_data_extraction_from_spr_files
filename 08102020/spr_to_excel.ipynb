{
 "cells": [
  {
   "cell_type": "code",
   "execution_count": 131,
   "metadata": {},
   "outputs": [],
   "source": [
    "import pandas as pd\n",
    "from pandas import ExcelWriter\n",
    "import numpy as np\n",
    "import re"
   ]
  },
  {
   "cell_type": "code",
   "execution_count": 14,
   "metadata": {},
   "outputs": [],
   "source": [
    "file = open(\"1927_1051417D.SPR\", \"r\")"
   ]
  },
  {
   "cell_type": "code",
   "execution_count": 15,
   "metadata": {},
   "outputs": [],
   "source": [
    "lines = file.readlines()"
   ]
  },
  {
   "cell_type": "code",
   "execution_count": 114,
   "metadata": {},
   "outputs": [
    {
     "data": {
      "text/plain": [
       "599"
      ]
     },
     "execution_count": 114,
     "metadata": {},
     "output_type": "execute_result"
    }
   ],
   "source": [
    "len(lines[1])"
   ]
  },
  {
   "cell_type": "code",
   "execution_count": 124,
   "metadata": {},
   "outputs": [
    {
     "name": "stdout",
     "output_type": "stream",
     "text": [
      "51\n",
      "['\" Date \" \" \" \" \"', '\"Shot No.\" \" \" \" \"', '\"StartUp\" \"On\" \" \"', '\"Cycl\" \" Time\" \"s\"', '\"DLck\" \" HlpU\" \" %\"', '\"Low \" \" Spd \" \"m/s\"', '\"High\" \"  Spd\" \"m/s\"', '\"Pres\" \" Up T\" \"ms\"', '\"Cast\" \" Pres\" \"MPa\"', '\"Bis \" \" Size\" \"mm\"', '\"H-Sp\" \" d St\" \"mm\"', '\"H-Le\" \" ngth\" \"mm\"', '\"Fill\" \"  End\" \"mm\"', '\"Peek\" \"  Spd\" \"m/s\"', '\"Shot\" \"  Wt \" \" kg\"', '\"Spra\" \" y   \" \" sec\"', '\"Core\" \"  In \" \" sec\"', '\"DieC\" \" lose\" \" sec\"', '\"Pour\" \" ing \" \" sec\"', '\"Fill\" \" Pres\" \"MPa\"', '\"Fill\" \" Time\" \"ms\"', '\"Shot\" \"     \" \" sec\"', '\"Work\" \" Cool\" \" sec\"', '\"Die \" \" Open\" \" sec\"', '\"D-He\" \" ight\" \"mm\"', '\"Pour\" \"  Ret\" \" deg\"', '\"A M.Temp\" \" 1 Max\" \"ßC\"', '\"A M.Temp\" \" 1 Min\" \"ßC\"', '\"B M.Temp\" \" 2 Max\" \"ßC\"', '\"B M.Temp\" \" 2 Min\" \"ßC\"', '\"Inte\" \" n T \" \"ms\"', '\"C F.Temp\" \" 1 Max\" \"ßC\"', '\"C F.Temp\" \" 1 Min\" \"ßC\"', '\"Fill\" \" Stat\" \"mm\"', '\"P Up\" \" Stat\" \"mm\"', '\"Core\" \"  Out\" \" sec\"', '\"Ejec\" \" t   \" \" sec\"', '\"Take\" \" -Out\" \" sec\"', '\"D F.Temp\" \" 2 Max\" \"ßC\"', '\"Sht \" \" pres\" \"MPa\"', '\"D F.Temp\" \" 2 Min\" \"ßC\"', '\"E Metal \" \"   Ave\" \"ßC\"', '\"F M.Cool\" \".  Ave\" \"ßC\"', '\"M.Coolin\" \"g Water \" \" l/m\"', '\"F.Coolin\" \"g Water \" \" l/m\"', '\"Tip Cool\" \"ing Flow\" \" l/m\"', '\"Oil Cool\" \"er Flow \" \" l/m\"', '\"VShu\" \" tPos\" \"mm\"', '\"Die Lub.\" \"Spray Le\" \"  ml\"', '\"Vacu\" \" um  \" \" kPa\"', '\"Peak\"                                                                                                                                                                             \\n \" Vacm\"                                                                                                                                                                                 \\n \" kPa\"                                                                                                                                                                                                             \\n']\n",
      "51\n"
     ]
    }
   ],
   "source": [
    "line_seg = lines[1].split(',')\n",
    "print(len(line_seg))\n",
    "\n",
    "line_seg2 = lines[2].split(',')\n",
    "#print(line_seg2)\n",
    "\n",
    "line_seg3 = lines[3].split(',')\n",
    "\n",
    "title = []\n",
    "\n",
    "for i in range(0,len(line_seg)):\n",
    "    title_i = line_seg[i] + \" \" + line_seg2[i] + \" \"+ line_seg3[i]\n",
    "    title.append(title_i)\n",
    "\n",
    "print(title)\n",
    "print(len(title))"
   ]
  },
  {
   "cell_type": "code",
   "execution_count": 19,
   "metadata": {},
   "outputs": [],
   "source": [
    "regex = r'\\b\\w+\\b'\n",
    "list1=re.findall(regex,lines[0])"
   ]
  },
  {
   "cell_type": "code",
   "execution_count": 20,
   "metadata": {},
   "outputs": [
    {
     "data": {
      "text/plain": [
       "['Die',\n",
       " 'No',\n",
       " '01',\n",
       " 'Part',\n",
       " 'EAGLE',\n",
       " 'RAY',\n",
       " 'BP',\n",
       " 'NoOfData',\n",
       " '40',\n",
       " 'ItemNum',\n",
       " '48']"
      ]
     },
     "execution_count": 20,
     "metadata": {},
     "output_type": "execute_result"
    }
   ],
   "source": [
    "list1"
   ]
  },
  {
   "cell_type": "code",
   "execution_count": 21,
   "metadata": {},
   "outputs": [
    {
     "name": "stdout",
     "output_type": "stream",
     "text": [
      "['Die', 'No', '01', 'Part', 'EAGLE', 'RAY', 'BP', 'NoOfData', '40', 'ItemNum', '48']\n"
     ]
    }
   ],
   "source": [
    "if ('Die' in list1) and ('No' in list1) and ('Part' in list1):\n",
    "    print(list1)"
   ]
  },
  {
   "cell_type": "code",
   "execution_count": 41,
   "metadata": {},
   "outputs": [
    {
     "data": {
      "text/plain": [
       "'\"08/10/20 19:32:26\"'"
      ]
     },
     "execution_count": 41,
     "metadata": {},
     "output_type": "execute_result"
    }
   ],
   "source": [
    "list2 = re.findall(r'\\b\\w+\\b',lines[4])\n",
    "chunks = lines[15].split(',')\n",
    "chunks[0]"
   ]
  },
  {
   "cell_type": "code",
   "execution_count": 53,
   "metadata": {},
   "outputs": [
    {
     "data": {
      "text/plain": [
       "['08', '10', '20', '19', '32', '26']"
      ]
     },
     "execution_count": 53,
     "metadata": {},
     "output_type": "execute_result"
    }
   ],
   "source": [
    "re.findall('\\d+', chunks[0])"
   ]
  },
  {
   "cell_type": "markdown",
   "metadata": {},
   "source": [
    "NEW CODE STARTING"
   ]
  },
  {
   "cell_type": "code",
   "execution_count": 228,
   "metadata": {},
   "outputs": [],
   "source": [
    "import pandas as pd\n",
    "import matplotlib.pyplot as plt\n",
    "import re"
   ]
  },
  {
   "cell_type": "code",
   "execution_count": 235,
   "metadata": {},
   "outputs": [],
   "source": [
    "filename = \"2121_1051643D.SPR\"\n",
    "file =open(filename, \"r\")\n",
    "lines = file.readlines()\n",
    "file.close()"
   ]
  },
  {
   "cell_type": "code",
   "execution_count": 236,
   "metadata": {},
   "outputs": [],
   "source": [
    "def date_format(data):\n",
    "    #data = pd.DataFrame(columns=['Col1', 'Col2', 'Col3', 'Col4', 'Col5', 'Col6', 'Col7', 'Col8', 'Col9', 'Col10', 'Col11', 'Col12', 'Col13', 'Col14', 'Col15', 'Col16', 'Col17', 'Col18', 'Col19', 'Col20', 'Col21', 'Col22', 'Col23', 'Col24', 'Col25', 'Col26', 'Col27', 'Col28', 'Col29', 'Col30', 'Col31', 'Col32', 'Col33', 'Col34', 'Col35', 'Col36', 'Col37', 'Col38', 'Col39', 'Col40', 'Col41', 'Col42', 'Col43', 'Col44', 'Col45', 'Col46', 'Col47', 'Col48', 'Col49', 'Col50', 'Col51', 'Col52'])\n",
    "    data_1 = re.findall('\\d+', data[0])\n",
    "    first_val = data_1[0] + '/' + data_1[1] + '/' + data_1[2]\n",
    "    second_val = data_1[3] + ':' + data_1[4] + ':' + data_1[5]\n",
    "    return(first_val,second_val)\n",
    "    "
   ]
  },
  {
   "cell_type": "code",
   "execution_count": null,
   "metadata": {},
   "outputs": [],
   "source": []
  },
  {
   "cell_type": "code",
   "execution_count": 237,
   "metadata": {},
   "outputs": [],
   "source": [
    "data = pd.DataFrame(columns=['Col1', 'Col2', 'Col3', 'Col4', 'Col5', 'Col6', 'Col7', 'Col8', 'Col9', 'Col10', 'Col11', \n",
    "                             'Col12', 'Col13', 'Col14', 'Col15', 'Col16', 'Col17', 'Col18', 'Col19', 'Col20', 'Col21', \n",
    "                             'Col22', 'Col23', 'Col24', 'Col25', 'Col26', 'Col27', 'Col28', 'Col29', 'Col30', 'Col31', \n",
    "                             'Col32', 'Col33', 'Col34', 'Col35', 'Col36', 'Col37', 'Col38', 'Col39', 'Col40', 'Col41', \n",
    "                             'Col42', 'Col43', 'Col44', 'Col45', 'Col46', 'Col47', 'Col48', 'Col49', 'Col50', 'Col51', 'Col52'])\n",
    "\n",
    "\n",
    "data = data.append({'Col1':'Date', 'Col2': \"Time\",'Col3':'Shot Number','Col4':'StartUp On','Col5':'Cycl Time (s)',\n",
    "                    'Col6':'DLck HlpU (%)','Col7':'Low Spd (m/s)','Col8':'High Spd (m/s)','Col9':'Pres Up T (m/s)',\n",
    "                    'Col10':'Cast Pres (MPa)','Col11':'Bis Size (mm)','Col12':'H-Spd St (mm)','Col13':'H-Length (mm)',\n",
    "                    'Col14':'Fill End (mm)','Col15':'Peek Spd (m/s)','Col16':'Shot Wt (kg)','Col17':'Spray (sec)',\n",
    "                    'Col18':'Core In (sec)','Col19':'DieC lose (sec)','Col20':'Pouring (sec)','Col21':'Fill Pres (MPa)',\n",
    "                    'Col22':'Fill Time (ms)','Col23':'Shot (sec)','Col23':'Work Cool (sec)','Col24':'Die Open (sec)',\n",
    "                    'Col25':'D-Height (mm)','Col26':'Pour Ret (deg)','Col27':'A M.Temp 1 Max (ßC)',\n",
    "                    'Col28':'A M.Temp 1 Min (ßC)','Col29':'B M.Temp 2 Max (ßC)','Col30':'B M.Temp 2 Min (ßC)',\n",
    "                    'Col31':'Inten Tms','Col32':'C F.Temp 1 Max (ßC)','Col33':'C F.Temp 1 Min (ßC)','Col34':'Fill Stat (mm)',\n",
    "                    'Col35':'P Up Stat (mm)','Col36':'Core Out (sec)','Col37':'Eject (sec)','Col38':'Take-Out (sec)',\n",
    "                    'Col39':'D F.Temp 2 Max (ßC)','Col40':'Shtpres (MPa)','Col41':'D F.Temp 2 Min (ßC)',\n",
    "                    'Col42':'E Metal Ave (ßC)','Col43':'F M.Cool. Ave(ßC)','Col44':'M.Cooling Water (l/m)',\n",
    "                    'Col45':'F.Cooling Water (l/m)','Col46':'Tip Cooling Flow (l/m)','Col47':'Oil Cooler Flow (l/m)',\n",
    "                    'Col48':'VShutPos (mm)','Col49':'DieLub.SprayLe (ml)','Col50':'Vacuum (kPa)',\n",
    "                    'Col51':'Peak Vacum (kPa)','Col52':\" \"},ignore_index=True)"
   ]
  },
  {
   "cell_type": "code",
   "execution_count": null,
   "metadata": {
    "scrolled": false
   },
   "outputs": [],
   "source": [
    "        "
   ]
  },
  {
   "cell_type": "code",
   "execution_count": 238,
   "metadata": {},
   "outputs": [],
   "source": [
    "for line in lines:\n",
    "    words = line.split(',')\n",
    "    #print(words[0])\n",
    "    numbers_col1 = re.findall('\\d+',words[0])\n",
    "    if len(numbers_col1) >= 6:\n",
    "        #print(words)\n",
    "        #print(len(words))\n",
    "        first_columns = date_format(words)\n",
    "        data = data.append({'Col1':first_columns[0], 'Col2': first_columns[1],'Col3':words[1],'Col4':words[2],'Col5':float(str(words[3])),\n",
    "                            'Col6':int(words[4]),'Col7':float(words[5]),'Col8':float(words[6]),'Col9':int(words[7]),'Col10':float(words[8]),'Col11':float(words[9]),\n",
    "                            'Col12':float(words[10]),'Col13':float(words[11]),'Col14':float(words[12]),'Col15':float(words[13]),'Col16':float(words[14]),\n",
    "                            'Col17':float(words[15]),'Col18':float(words[16]),'Col19':float(words[17]),'Col20':float(words[18]),'Col21':float(words[19]),\n",
    "                            'Col22':int(words[20]),'Col23':float(words[21]),'Col23':float(words[22]),'Col24':float(words[23]),'Col25':float(words[24]),\n",
    "                            'Col26':float(words[25]),'Col27':float(words[26]),'Col28':float(words[27]),'Col29':float(words[28]),'Col30':float(words[29]),\n",
    "                            'Col31':float(words[30]),'Col32':float(words[31]),'Col33':float(words[32]),'Col34':float(words[33]),'Col35':float(words[34]),\n",
    "                            'Col36':float(words[35]),'Col37':float(words[36]),'Col38':float(words[37]),'Col39':float(words[38]),'Col40':float(words[39]),\n",
    "                            'Col41':float(words[40]),'Col42':float(words[41]),'Col43':float(words[42]),'Col44':float(words[43]),'Col45':float(words[44]),\n",
    "                            'Col46':float(words[45]),'Col47':float(words[46]),'Col48':float(words[47]),'Col49':float(words[48]),'Col50':float(words[49]),\n",
    "                            'Col51':float(words[50]),'Col52':\" \"},ignore_index=True)\n",
    "        "
   ]
  },
  {
   "cell_type": "code",
   "execution_count": 239,
   "metadata": {},
   "outputs": [],
   "source": [
    "#writer = ExcelWriter('1927_1051417D.xlsx',index=False)\n",
    "filename = filename.replace(\".SPR\",\".xlsx\")\n",
    "writer = pd.ExcelWriter(filename, engine='xlsxwriter')\n",
    "\n",
    "data.to_excel(writer,sheet_name=\"1\", startcol=0, header=None, index=False)"
   ]
  },
  {
   "cell_type": "code",
   "execution_count": 240,
   "metadata": {},
   "outputs": [],
   "source": [
    "writer.save()"
   ]
  },
  {
   "cell_type": "markdown",
   "metadata": {},
   "source": [
    "ARGUMENT COMMAND LINE"
   ]
  },
  {
   "cell_type": "code",
   "execution_count": 241,
   "metadata": {},
   "outputs": [
    {
     "name": "stdout",
     "output_type": "stream",
     "text": [
      "Number of arguments: 3 arguments.\n",
      "Argument List: ['C:\\\\Users\\\\User\\\\Anaconda3\\\\lib\\\\site-packages\\\\ipykernel_launcher.py', '-f', 'C:\\\\Users\\\\User\\\\AppData\\\\Roaming\\\\jupyter\\\\runtime\\\\kernel-1f0d20b6-6930-46a4-b48b-34a9471562b9.json']\n"
     ]
    }
   ],
   "source": [
    "import sys\n",
    "\n",
    "print('Number of arguments:', len(sys.argv), 'arguments.')\n",
    "print('Argument List:', str(sys.argv))"
   ]
  },
  {
   "cell_type": "code",
   "execution_count": null,
   "metadata": {},
   "outputs": [],
   "source": []
  }
 ],
 "metadata": {
  "kernelspec": {
   "display_name": "Python 3",
   "language": "python",
   "name": "python3"
  },
  "language_info": {
   "codemirror_mode": {
    "name": "ipython",
    "version": 3
   },
   "file_extension": ".py",
   "mimetype": "text/x-python",
   "name": "python",
   "nbconvert_exporter": "python",
   "pygments_lexer": "ipython3",
   "version": "3.7.0"
  }
 },
 "nbformat": 4,
 "nbformat_minor": 2
}
