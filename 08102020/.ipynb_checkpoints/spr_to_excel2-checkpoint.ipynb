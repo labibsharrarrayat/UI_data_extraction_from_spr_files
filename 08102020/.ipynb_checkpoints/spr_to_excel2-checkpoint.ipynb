{
 "cells": [
  {
   "cell_type": "code",
   "execution_count": 106,
   "metadata": {},
   "outputs": [],
   "source": [
    "import pandas as pd\n",
    "import numpy as np\n",
    "from matplotlib import pyplot as plt\n",
    "import matplotlib.cm as cm\n",
    "from matplotlib.colors import Normalize"
   ]
  },
  {
   "cell_type": "code",
   "execution_count": 59,
   "metadata": {},
   "outputs": [],
   "source": [
    "df = pd.read_excel(\"1927_1051417D.xlsx\")"
   ]
  },
  {
   "cell_type": "code",
   "execution_count": 60,
   "metadata": {},
   "outputs": [],
   "source": [
    "#Cycle Time\n",
    "df.loc[(df['Cycl Time (s)']>=24) & (df['Cycl Time (s)']<=35),'Cycle_Time_Value'] = 'Cycle_Time_True'\n",
    "df.loc[(df['Cycl Time (s)'] < 24) | (df['Cycl Time (s)'] > 35),'Cycle_Time_Value'] = 'Cycle_Time_False'\n",
    "\n",
    "#Slow Speed\n",
    "df.loc[(df['Low Spd (m/s)']>=0.290) & (df['Low Spd (m/s)']<=0.310),'L Spd Value'] = 'L_Spd_True'\n",
    "df.loc[(df['Low Spd (m/s)'] < 0.290) | (df['Low Spd (m/s)'] > 0.310),'L Spd Value'] = 'L_Spd_False'\n",
    "\n",
    "#High Speed\n",
    "df.loc[(df['High Spd (m/s)']>=2.5) & (df['High Spd (m/s)']<=3.5),'H Spd Value'] = 'H_Spd_True'\n",
    "df.loc[(df['High Spd (m/s)'] < 2.5) | (df['High Spd (m/s)'] > 3.5),'H Spd Value'] = 'H_Spd_False'\n",
    "\n",
    "#High Speed Length\n",
    "df.loc[(df['H-Length (mm)']>=70) & (df['H-Length (mm)']<=80),'H_Length_State'] = 'H_Length_True'\n",
    "df.loc[(df['H-Length (mm)'] < 70) | (df['H-Length (mm)'] > 80),'H_Length_State'] = 'H_Length_False'\n",
    "\n",
    "#Fill Time\n",
    "df.loc[(df['Fill Time (ms)']>=20) & (df['Fill Time (ms)']<=30),'Fill_Time_State'] = 'Fill_Time_True'\n",
    "df.loc[(df['Fill Time (ms)'] < 20) | (df['Fill Time (ms)'] > 30),'Fill_Time_State'] = 'Fill_Time_False'\n",
    "\n",
    "#Casting Pressure\n",
    "df.loc[(df['Cast Pres (MPa)']>=100) & (df['Cast Pres (MPa)']<=110),'Cast_Pres_State'] = 'Cast_Pres_True'\n",
    "df.loc[(df['Cast Pres (MPa)'] < 100) | (df['Cast Pres (MPa)'] > 110),'Cast_Pres_State'] = 'Cast_Pres_False'\n",
    "\n",
    "#Biscuit Thickness\n",
    "df.loc[(df['Bis Size (mm)']>=10) & (df['Bis Size (mm)']<=16),'Biz_Size_State'] = 'Biz_Size_True'\n",
    "df.loc[(df['Bis Size (mm)'] < 10) | (df['Bis Size (mm)'] > 16),'Biz_Size_State'] = 'Biz_Size_False'\n",
    "\n",
    "#Mold Temp, Fixed1, Min\n",
    "df.loc[(df['A M.Temp 1 Min (ßC)']>=100) & (df['A M.Temp 1 Min (ßC)']<=140),'Temp_A_Min_State'] = 'Temp_A_Min_True'\n",
    "df.loc[(df['A M.Temp 1 Min (ßC)'] < 100) | (df['A M.Temp 1 Min (ßC)'] > 140),'Temp_A_Min_State'] = 'Temp_A_Min_False'\n",
    "\n",
    "#Mold Temp, Fixed2, Min\n",
    "df.loc[(df['B M.Temp 2 Min (ßC)']>=100) & (df['B M.Temp 2 Min (ßC)']<=140),'Temp_B_Min_State'] = 'Temp_B_Min_True'\n",
    "df.loc[(df['B M.Temp 2 Min (ßC)'] < 100) | (df['B M.Temp 2 Min (ßC)'] > 140),'Temp_B_Min_State'] = 'Temp_B_Min_False'\n",
    "\n",
    "#Mold Temp, Moving1, Min\n",
    "df.loc[(df['C F.Temp 1 Min (ßC)']>=100) & (df['C F.Temp 1 Min (ßC)']<=140),'Temp_C_Min_State'] = 'Temp_C_Min_True'\n",
    "df.loc[(df['C F.Temp 1 Min (ßC)'] < 100) | (df['C F.Temp 1 Min (ßC)'] > 140),'Temp_C_Min_State'] = 'Temp_C_Min_False'\n",
    "\n",
    "#Mold Temp, Moving2, Min\n",
    "df.loc[(df['D F.Temp 2 Min (ßC)']>=100) & (df['D F.Temp 2 Min (ßC)']<=140),'Temp_D_Min_State'] = 'Temp_D_Min_True'\n",
    "df.loc[(df['D F.Temp 2 Min (ßC)'] < 100) | (df['D F.Temp 2 Min (ßC)'] > 140),'Temp_D_Min_State'] = 'Temp_D_Min_False'\n",
    "\n",
    "#All Temp\n",
    "df.loc[(df['E Metal Ave (ßC)']>=659) & (df['E Metal Ave (ßC)']<=681),'AL_Temp_State'] = 'AL_Temp_True'\n",
    "df.loc[(df['E Metal Ave (ßC)'] < 659) | (df['E Metal Ave (ßC)'] > 681),'AL_Temp_State'] = 'AL_Temp_False'\n"
   ]
  },
  {
   "cell_type": "code",
   "execution_count": 61,
   "metadata": {},
   "outputs": [],
   "source": [
    "#Pass Part\n",
    "df.loc[(df['Cycle_Time_Value']=='Cycle_Time_True') & (df['L Spd Value']=='L_Spd_True') \n",
    "       & (df['H Spd Value']=='H_Spd_True') & (df['H_Length_State']=='H_Length_True') \n",
    "       & (df['Fill_Time_State']=='Fill_Time_True') \n",
    "       & (df['Cast_Pres_State']=='Cast_Pres_True') \n",
    "       & (df['Biz_Size_State']=='Biz_Size_True')\n",
    "       & (df['Temp_A_Min_State']=='Temp_A_Min_True')\n",
    "       & (df['Temp_B_Min_State']=='Temp_B_Min_True')\n",
    "       & (df['Temp_C_Min_State']=='Temp_C_Min_True')\n",
    "       & (df['Temp_D_Min_State']=='Temp_D_Min_True')\n",
    "       & (df['AL_Temp_State']=='AL_Temp_True'),'Pass_Status'] = 1\n",
    "\n",
    "#Failed Part\n",
    "df.loc[(df['Cycle_Time_Value']=='Cycle_Time_False') | (df['L Spd Value']=='L_Spd_False') \n",
    "       | (df['H Spd Value']=='H_Spd_False') | (df['H_Length_State']=='H_Length_False') \n",
    "       | (df['Fill_Time_State']=='Fill_Time_False') \n",
    "       | (df['Cast_Pres_State']=='Cast_Pres_False') \n",
    "       | (df['Biz_Size_State']=='Biz_Size_False')\n",
    "       | (df['Temp_A_Min_State']=='Temp_A_Min_False')\n",
    "       | (df['Temp_B_Min_State']=='Temp_B_Min_False')\n",
    "       | (df['Temp_C_Min_State']=='Temp_C_Min_False')\n",
    "       | (df['Temp_D_Min_State']=='Temp_D_Min_False')\n",
    "       | (df['AL_Temp_State']=='AL_Temp_False'),'Pass_Status'] = 0\n"
   ]
  },
  {
   "cell_type": "code",
   "execution_count": 94,
   "metadata": {},
   "outputs": [],
   "source": [
    "#Splitting\n",
    "seg = df.groupby(['Pass_Status'])\n",
    "\n",
    "#Failed Set\n",
    "fail_part = seg.get_group(0)\n",
    "\n",
    "#Pass Set\n",
    "pass_part = seg.get_group(1)"
   ]
  },
  {
   "cell_type": "code",
   "execution_count": 95,
   "metadata": {},
   "outputs": [],
   "source": [
    "date_file = df['Date']"
   ]
  },
  {
   "cell_type": "code",
   "execution_count": 96,
   "metadata": {},
   "outputs": [
    {
     "data": {
      "text/plain": [
       "'08/10/20'"
      ]
     },
     "execution_count": 96,
     "metadata": {},
     "output_type": "execute_result"
    }
   ],
   "source": [
    "date_file[0]"
   ]
  },
  {
   "cell_type": "code",
   "execution_count": 100,
   "metadata": {},
   "outputs": [],
   "source": [
    "fail_count = fail_part.shape[0]"
   ]
  },
  {
   "cell_type": "code",
   "execution_count": 101,
   "metadata": {},
   "outputs": [],
   "source": [
    "pass_count = pass_part.shape[0]"
   ]
  },
  {
   "cell_type": "code",
   "execution_count": 131,
   "metadata": {},
   "outputs": [
    {
     "data": {
      "image/png": "[encoded data removed]",
      "text/plain": [
       "<Figure size 432x288 with 1 Axes>"
      ]
     },
     "metadata": {
      "needs_background": "light"
     },
     "output_type": "display_data"
    }
   ],
   "source": [
    "fig = plt.figure()\n",
    "axis1 = fig.add_subplot(211)\n",
    "\n",
    "status = ['Total Parts '+ \"(\"+ str(df.shape[0])+ \" parts\"+ \")\",'Pass '+ \"(\"+ str(pass_count)+ \" parts\"+ \")\",'Fail'+ \"(\"+ str(fail_count)+ \" parts\"+ \")\"]\n",
    "part_numbers = [df.shape[0],pass_count,fail_count]\n",
    "\n",
    "#for pie chart\n",
    "explode = (0,0.1)\n",
    "\n",
    "axis1.bar(status,part_numbers)\n",
    "axis1.grid(True)\n",
    "plt.ylabel(\"Number of Parts\")\n",
    "\n",
    "axis2 = fig.add_subplot(212)\n",
    "axis2.pie(part_numbers, explode=explode, labels=[''])\n",
    "#axis2.plot(range(10,20))\n",
    "fig.savefig('multipleplots.png')"
   ]
  },
  {
   "cell_type": "code",
   "execution_count": 130,
   "metadata": {},
   "outputs": [
    {
     "data": {
      "text/plain": [
       "\"''\\nimport numpy as np\\nimport matplotlib.pyplot as plt\\n\\nfig = plt.figure()\\nax = fig.add_subplot(1, 1, 1)\\n\\n# Major ticks every 20, minor ticks every 5\\nmajor_ticks = np.arange(0, 51, 20)\\nminor_ticks = np.arange(0, 101, 5)\\n\\nax.set_xticks(major_ticks)\\nax.set_xticks(minor_ticks, minor=True)\\nax.set_yticks(major_ticks)\\nax.set_yticks(minor_ticks, minor=True)\\n\\n# And a corresponding grid\\nax.grid(which='both')\\n\\n# Or if you want different settings for the grids:\\nax.grid(which='minor', alpha=0.2)\\nax.grid(which='major', alpha=0.5)\\n\\nplt.show()\\n\""
      ]
     },
     "execution_count": 130,
     "metadata": {},
     "output_type": "execute_result"
    }
   ],
   "source": [
    "'''''\n",
    "import numpy as np\n",
    "import matplotlib.pyplot as plt\n",
    "\n",
    "fig = plt.figure()\n",
    "ax = fig.add_subplot(1, 1, 1)\n",
    "\n",
    "# Major ticks every 20, minor ticks every 5\n",
    "major_ticks = np.arange(0, 51, 20)\n",
    "minor_ticks = np.arange(0, 101, 5)\n",
    "\n",
    "ax.set_xticks(major_ticks)\n",
    "ax.set_xticks(minor_ticks, minor=True)\n",
    "ax.set_yticks(major_ticks)\n",
    "ax.set_yticks(minor_ticks, minor=True)\n",
    "\n",
    "# And a corresponding grid\n",
    "ax.grid(which='both')\n",
    "\n",
    "# Or if you want different settings for the grids:\n",
    "ax.grid(which='minor', alpha=0.2)\n",
    "ax.grid(which='major', alpha=0.5)\n",
    "\n",
    "plt.show()\n",
    "'''''"
   ]
  },
  {
   "cell_type": "code",
   "execution_count": null,
   "metadata": {},
   "outputs": [],
   "source": []
  }
 ],
 "metadata": {
  "kernelspec": {
   "display_name": "Python 3",
   "language": "python",
   "name": "python3"
  },
  "language_info": {
   "codemirror_mode": {
    "name": "ipython",
    "version": 3
   },
   "file_extension": ".py",
   "mimetype": "text/x-python",
   "name": "python",
   "nbconvert_exporter": "python",
   "pygments_lexer": "ipython3",
   "version": "3.7.0"
  }
 },
 "nbformat": 4,
 "nbformat_minor": 2
}
