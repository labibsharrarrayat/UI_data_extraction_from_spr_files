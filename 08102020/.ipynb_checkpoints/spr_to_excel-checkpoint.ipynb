{
 "cells": [
  {
   "cell_type": "code",
   "execution_count": 18,
   "metadata": {},
   "outputs": [],
   "source": [
    "import pandas as pd\n",
    "import numpy as np\n",
    "import re"
   ]
  },
  {
   "cell_type": "code",
   "execution_count": 14,
   "metadata": {},
   "outputs": [],
   "source": [
    "file = open(\"1927_1051417D.SPR\", \"r\")"
   ]
  },
  {
   "cell_type": "code",
   "execution_count": 15,
   "metadata": {},
   "outputs": [],
   "source": [
    "lines = file.readlines()"
   ]
  },
  {
   "cell_type": "code",
   "execution_count": 114,
   "metadata": {},
   "outputs": [
    {
     "data": {
      "text/plain": [
       "599"
      ]
     },
     "execution_count": 114,
     "metadata": {},
     "output_type": "execute_result"
    }
   ],
   "source": [
    "len(lines[1])"
   ]
  },
  {
   "cell_type": "code",
   "execution_count": 124,
   "metadata": {},
   "outputs": [
    {
     "name": "stdout",
     "output_type": "stream",
     "text": [
      "51\n",
      "['\" Date \" \" \" \" \"', '\"Shot No.\" \" \" \" \"', '\"StartUp\" \"On\" \" \"', '\"Cycl\" \" Time\" \"s\"', '\"DLck\" \" HlpU\" \" %\"', '\"Low \" \" Spd \" \"m/s\"', '\"High\" \"  Spd\" \"m/s\"', '\"Pres\" \" Up T\" \"ms\"', '\"Cast\" \" Pres\" \"MPa\"', '\"Bis \" \" Size\" \"mm\"', '\"H-Sp\" \" d St\" \"mm\"', '\"H-Le\" \" ngth\" \"mm\"', '\"Fill\" \"  End\" \"mm\"', '\"Peek\" \"  Spd\" \"m/s\"', '\"Shot\" \"  Wt \" \" kg\"', '\"Spra\" \" y   \" \" sec\"', '\"Core\" \"  In \" \" sec\"', '\"DieC\" \" lose\" \" sec\"', '\"Pour\" \" ing \" \" sec\"', '\"Fill\" \" Pres\" \"MPa\"', '\"Fill\" \" Time\" \"ms\"', '\"Shot\" \"     \" \" sec\"', '\"Work\" \" Cool\" \" sec\"', '\"Die \" \" Open\" \" sec\"', '\"D-He\" \" ight\" \"mm\"', '\"Pour\" \"  Ret\" \" deg\"', '\"A M.Temp\" \" 1 Max\" \"ßC\"', '\"A M.Temp\" \" 1 Min\" \"ßC\"', '\"B M.Temp\" \" 2 Max\" \"ßC\"', '\"B M.Temp\" \" 2 Min\" \"ßC\"', '\"Inte\" \" n T \" \"ms\"', '\"C F.Temp\" \" 1 Max\" \"ßC\"', '\"C F.Temp\" \" 1 Min\" \"ßC\"', '\"Fill\" \" Stat\" \"mm\"', '\"P Up\" \" Stat\" \"mm\"', '\"Core\" \"  Out\" \" sec\"', '\"Ejec\" \" t   \" \" sec\"', '\"Take\" \" -Out\" \" sec\"', '\"D F.Temp\" \" 2 Max\" \"ßC\"', '\"Sht \" \" pres\" \"MPa\"', '\"D F.Temp\" \" 2 Min\" \"ßC\"', '\"E Metal \" \"   Ave\" \"ßC\"', '\"F M.Cool\" \".  Ave\" \"ßC\"', '\"M.Coolin\" \"g Water \" \" l/m\"', '\"F.Coolin\" \"g Water \" \" l/m\"', '\"Tip Cool\" \"ing Flow\" \" l/m\"', '\"Oil Cool\" \"er Flow \" \" l/m\"', '\"VShu\" \" tPos\" \"mm\"', '\"Die Lub.\" \"Spray Le\" \"  ml\"', '\"Vacu\" \" um  \" \" kPa\"', '\"Peak\"                                                                                                                                                                             \\n \" Vacm\"                                                                                                                                                                                 \\n \" kPa\"                                                                                                                                                                                                             \\n']\n",
      "51\n"
     ]
    }
   ],
   "source": [
    "line_seg = lines[1].split(',')\n",
    "print(len(line_seg))\n",
    "\n",
    "line_seg2 = lines[2].split(',')\n",
    "#print(line_seg2)\n",
    "\n",
    "line_seg3 = lines[3].split(',')\n",
    "\n",
    "title = []\n",
    "\n",
    "for i in range(0,len(line_seg)):\n",
    "    title_i = line_seg[i] + \" \" + line_seg2[i] + \" \"+ line_seg3[i]\n",
    "    title.append(title_i)\n",
    "\n",
    "print(title)\n",
    "print(len(title))"
   ]
  },
  {
   "cell_type": "code",
   "execution_count": 19,
   "metadata": {},
   "outputs": [],
   "source": [
    "regex = r'\\b\\w+\\b'\n",
    "list1=re.findall(regex,lines[0])"
   ]
  },
  {
   "cell_type": "code",
   "execution_count": 20,
   "metadata": {},
   "outputs": [
    {
     "data": {
      "text/plain": [
       "['Die',\n",
       " 'No',\n",
       " '01',\n",
       " 'Part',\n",
       " 'EAGLE',\n",
       " 'RAY',\n",
       " 'BP',\n",
       " 'NoOfData',\n",
       " '40',\n",
       " 'ItemNum',\n",
       " '48']"
      ]
     },
     "execution_count": 20,
     "metadata": {},
     "output_type": "execute_result"
    }
   ],
   "source": [
    "list1"
   ]
  },
  {
   "cell_type": "code",
   "execution_count": 21,
   "metadata": {},
   "outputs": [
    {
     "name": "stdout",
     "output_type": "stream",
     "text": [
      "['Die', 'No', '01', 'Part', 'EAGLE', 'RAY', 'BP', 'NoOfData', '40', 'ItemNum', '48']\n"
     ]
    }
   ],
   "source": [
    "if ('Die' in list1) and ('No' in list1) and ('Part' in list1):\n",
    "    print(list1)"
   ]
  },
  {
   "cell_type": "code",
   "execution_count": 41,
   "metadata": {},
   "outputs": [
    {
     "data": {
      "text/plain": [
       "'\"08/10/20 19:32:26\"'"
      ]
     },
     "execution_count": 41,
     "metadata": {},
     "output_type": "execute_result"
    }
   ],
   "source": [
    "list2 = re.findall(r'\\b\\w+\\b',lines[4])\n",
    "chunks = lines[15].split(',')\n",
    "chunks[0]"
   ]
  },
  {
   "cell_type": "code",
   "execution_count": 53,
   "metadata": {},
   "outputs": [
    {
     "data": {
      "text/plain": [
       "['08', '10', '20', '19', '32', '26']"
      ]
     },
     "execution_count": 53,
     "metadata": {},
     "output_type": "execute_result"
    }
   ],
   "source": [
    "re.findall('\\d+', chunks[0])"
   ]
  },
  {
   "cell_type": "markdown",
   "metadata": {},
   "source": [
    "NEW CODE STARTING"
   ]
  },
  {
   "cell_type": "code",
   "execution_count": 54,
   "metadata": {},
   "outputs": [],
   "source": [
    "import pandas as pd\n",
    "import matplotlib.pyplot as plt\n",
    "import re"
   ]
  },
  {
   "cell_type": "code",
   "execution_count": 55,
   "metadata": {},
   "outputs": [],
   "source": [
    "file =open(\"1927_1051417D.SPR\", \"r\")\n",
    "lines = file.readlines()\n",
    "file.close()"
   ]
  },
  {
   "cell_type": "code",
   "execution_count": 99,
   "metadata": {},
   "outputs": [],
   "source": [
    "def date_format(data):\n",
    "    #data = pd.DataFrame(columns=['Col1', 'Col2', 'Col3', 'Col4', 'Col5', 'Col6', 'Col7', 'Col8', 'Col9', 'Col10', 'Col11', 'Col12', 'Col13', 'Col14', 'Col15', 'Col16', 'Col17', 'Col18', 'Col19', 'Col20', 'Col21', 'Col22', 'Col23', 'Col24', 'Col25', 'Col26', 'Col27', 'Col28', 'Col29', 'Col30', 'Col31', 'Col32', 'Col33', 'Col34', 'Col35', 'Col36', 'Col37', 'Col38', 'Col39', 'Col40', 'Col41', 'Col42', 'Col43', 'Col44', 'Col45', 'Col46', 'Col47', 'Col48', 'Col49', 'Col50', 'Col51', 'Col52'])\n",
    "    data_1 = re.findall('\\d+', data[0])\n",
    "    first_val = data_1[0] + '/' + data_1[1] + '/' + data_1[2]\n",
    "    second_val = data_1[3] + ':' + data_1[4] + ':' + data_1[5]\n",
    "    return(first_val,second_val)\n",
    "    "
   ]
  },
  {
   "cell_type": "code",
   "execution_count": null,
   "metadata": {},
   "outputs": [],
   "source": []
  },
  {
   "cell_type": "code",
   "execution_count": 125,
   "metadata": {
    "scrolled": false
   },
   "outputs": [
    {
     "name": "stdout",
     "output_type": "stream",
     "text": [
      " 1051417\n",
      " 1051418\n",
      " 1051419\n",
      " 1051420\n",
      " 1051421\n",
      " 1051422\n",
      " 1051423\n",
      " 1051424\n",
      " 1051425\n",
      " 1051426\n",
      " 1051427\n",
      " 1051428\n",
      " 1051429\n",
      " 1051430\n",
      " 1051431\n",
      " 1051432\n",
      " 1051433\n",
      " 1051434\n",
      " 1051435\n",
      " 1051436\n",
      " 1051437\n",
      " 1051438\n",
      " 1051439\n",
      " 1051440\n",
      " 1051441\n",
      " 1051442\n",
      " 1051443\n",
      " 1051444\n",
      " 1051445\n",
      " 1051446\n",
      " 1051447\n",
      " 1051448\n",
      " 1051449\n",
      " 1051450\n",
      " 1051451\n",
      " 1051452\n",
      " 1051453\n",
      " 1051454\n",
      " 1051455\n",
      " 1051456\n"
     ]
    }
   ],
   "source": [
    "data = pd.DataFrame(columns=['Col1', 'Col2', 'Col3', 'Col4', 'Col5', 'Col6', 'Col7', 'Col8', 'Col9', 'Col10', 'Col11', 'Col12', 'Col13', 'Col14', 'Col15', 'Col16', 'Col17', 'Col18', 'Col19', 'Col20', 'Col21', 'Col22', 'Col23', 'Col24', 'Col25', 'Col26', 'Col27', 'Col28', 'Col29', 'Col30', 'Col31', 'Col32', 'Col33', 'Col34', 'Col35', 'Col36', 'Col37', 'Col38', 'Col39', 'Col40', 'Col41', 'Col42', 'Col43', 'Col44', 'Col45', 'Col46', 'Col47', 'Col48', 'Col49', 'Col50', 'Col51', 'Col52'])\n",
    "data = data.append({'Col1':'Date', 'Col2': \"Time\",'Col3':'Shot Number','Col4':'StartUp On','Col5':'Cycl Time (s)','Col6':'DLck HlpU (%)','Col7':'Low Spd (m/s)','Col8':'High Spd (m/s)','Col9':'Pres Up T (m/s)','Col10':'Cast Pres (MPa)','Col11':'Bis Size (mm)','Col12':'H-Spd St (mm)','Col13':'H-Length (mm)','Col14':'Fill End (mm)','Col15':'Peek Spd (m/s)','Col16':'Shot Wt (kg)','Col17':'Spray (sec)','Col18':'Core In (sec)','Col19':'DieC lose (sec)','Col20':'Pouring (sec)','Col21':'Fill Pres (MPa)','Col22':'Fill Time (ms)','Col23':'Shot (sec)','Col23':'Work Cool (sec)','Col24':'Die Open (sec)','Col25':'D-Height (mm)','Col26':'Pour Ret (deg)','Col27':'A M.Temp 1 Max (ßC)','Col28':'A M.Temp 1 Min (ßC)','Col29':'B M.Temp 2 Max (ßC)','Col30':'B M.Temp 2 Min (ßC)','Col31':'Inten Tms','Col32':'C F.Temp 1 Max (ßC)','Col33':'C F.Temp 1 Min (ßC)','Col34':'Fill Stat (mm)','Col35':'P Up Stat (mm)','Col36':'Core Out (sec)','Col37':'Eject (sec)','Col38':'Take-Out (sec)','Col39':'D F.Temp 2 Max (ßC)','Col40':'Shtpres (MPa)','Col41':'D F.Temp 2 Min (ßC)','Col42':'E Metal Ave (ßC)','Col43':'F M.Cool. Ave(ßC)','Col44':'M.Cooling Water (l/m)','Col45':'F.Cooling Water (l/m)','Col46':'Tip Cooling Flow (l/m)','Col47':'Oil Cooler Flow (l/m)','Col48':'VShutPos (mm)','Col49':'DieLub.SprayLe (ml)','Col50':'\"Vacuum (kPa)','Col51':'Peak Vacum (kPa)','Col52':\" \"},ignore_index=True)\n",
    "\n",
    "\n",
    "for line in lines:\n",
    "    words = line.split(',')\n",
    "    #print(words[0])\n",
    "    numbers_col1 = re.findall('\\d+',words[0])\n",
    "    if len(numbers_col1) >= 6:\n",
    "        #print(words)\n",
    "        #print(len(words))\n",
    "        first_columns = date_format(words)\n",
    "        data = data.append({'Col1':first_columns[0], 'Col2': first_columns[1],'Col3':words[1],'Col4':words[2],'Col5':words[3],'Col6':words[4],'Col7':words[5],'Col8':words[6],'Col9':words[7],'Col10':words[8],'Col11':words[9],'Col12':words[10],'Col13':words[11],'Col14':words[12],'Col15':words[13],'Col16':'Shot Wt (kg)','Col17':'Spray (sec)','Col18':'Core In (sec)','Col19':'DieC lose (sec)','Col20':'Pouring (sec)','Col21':'Fill Pres (MPa)','Col22':'Fill Time (ms)','Col23':'Shot (sec)','Col23':'Work Cool (sec)','Col24':'Die Open (sec)','Col25':'D-Height (mm)','Col26':'Pour Ret (deg)','Col27':'A M.Temp 1 Max (ßC)','Col28':'A M.Temp 1 Min (ßC)','Col29':'B M.Temp 2 Max (ßC)','Col30':'B M.Temp 2 Min (ßC)','Col31':'Inten Tms','Col32':'C F.Temp 1 Max (ßC)','Col33':'C F.Temp 1 Min (ßC)','Col34':'Fill Stat (mm)','Col35':'P Up Stat (mm)','Col36':'Core Out (sec)','Col37':'Eject (sec)','Col38':'Take-Out (sec)','Col39':'D F.Temp 2 Max (ßC)','Col40':'Shtpres (MPa)','Col41':'D F.Temp 2 Min (ßC)','Col42':'E Metal Ave (ßC)','Col43':'F M.Cool. Ave(ßC)','Col44':'M.Cooling Water (l/m)','Col45':'F.Cooling Water (l/m)','Col46':'Tip Cooling Flow (l/m)','Col47':'Oil Cooler Flow (l/m)','Col48':'VShutPos (mm)','Col49':'DieLub.SprayLe (ml)','Col50':'\"Vacuum (kPa)','Col51':'Peak Vacum (kPa)','Col52':\" \"},ignore_index=True)\n",
    "\n",
    "\n",
    "        #print(first_columns[0])\n",
    "        #print(first_col[1])\n",
    "        "
   ]
  },
  {
   "cell_type": "code",
   "execution_count": 126,
   "metadata": {},
   "outputs": [
    {
     "data": {
      "text/html": [
       "<div>\n",
       "<style scoped>\n",
       "    .dataframe tbody tr th:only-of-type {\n",
       "        vertical-align: middle;\n",
       "    }\n",
       "\n",
       "    .dataframe tbody tr th {\n",
       "        vertical-align: top;\n",
       "    }\n",
       "\n",
       "    .dataframe thead th {\n",
       "        text-align: right;\n",
       "    }\n",
       "</style>\n",
       "<table border=\"1\" class=\"dataframe\">\n",
       "  <thead>\n",
       "    <tr style=\"text-align: right;\">\n",
       "      <th></th>\n",
       "      <th>Col1</th>\n",
       "      <th>Col2</th>\n",
       "      <th>Col3</th>\n",
       "      <th>Col4</th>\n",
       "      <th>Col5</th>\n",
       "      <th>Col6</th>\n",
       "      <th>Col7</th>\n",
       "      <th>Col8</th>\n",
       "      <th>Col9</th>\n",
       "      <th>Col10</th>\n",
       "      <th>...</th>\n",
       "      <th>Col43</th>\n",
       "      <th>Col44</th>\n",
       "      <th>Col45</th>\n",
       "      <th>Col46</th>\n",
       "      <th>Col47</th>\n",
       "      <th>Col48</th>\n",
       "      <th>Col49</th>\n",
       "      <th>Col50</th>\n",
       "      <th>Col51</th>\n",
       "      <th>Col52</th>\n",
       "    </tr>\n",
       "  </thead>\n",
       "  <tbody>\n",
       "    <tr>\n",
       "      <th>0</th>\n",
       "      <td>Date</td>\n",
       "      <td>Time</td>\n",
       "      <td>Shot Number</td>\n",
       "      <td>StartUp On</td>\n",
       "      <td>Cycl Time (s)</td>\n",
       "      <td>DLck HlpU (%)</td>\n",
       "      <td>Low Spd (m/s)</td>\n",
       "      <td>High Spd (m/s)</td>\n",
       "      <td>Pres Up T (m/s)</td>\n",
       "      <td>Cast Pres (MPa)</td>\n",
       "      <td>...</td>\n",
       "      <td>F M.Cool. Ave(ßC)</td>\n",
       "      <td>M.Cooling Water (l/m)</td>\n",
       "      <td>F.Cooling Water (l/m)</td>\n",
       "      <td>Tip Cooling Flow (l/m)</td>\n",
       "      <td>Oil Cooler Flow (l/m)</td>\n",
       "      <td>VShutPos (mm)</td>\n",
       "      <td>DieLub.SprayLe (ml)</td>\n",
       "      <td>\"Vacuum (kPa)</td>\n",
       "      <td>Peak Vacum (kPa)</td>\n",
       "      <td></td>\n",
       "    </tr>\n",
       "  </tbody>\n",
       "</table>\n",
       "<p>1 rows × 52 columns</p>\n",
       "</div>"
      ],
      "text/plain": [
       "   Col1  Col2         Col3        Col4           Col5           Col6  \\\n",
       "0  Date  Time  Shot Number  StartUp On  Cycl Time (s)  DLck HlpU (%)   \n",
       "\n",
       "            Col7            Col8             Col9            Col10  ...   \\\n",
       "0  Low Spd (m/s)  High Spd (m/s)  Pres Up T (m/s)  Cast Pres (MPa)  ...    \n",
       "\n",
       "               Col43                  Col44                  Col45  \\\n",
       "0  F M.Cool. Ave(ßC)  M.Cooling Water (l/m)  F.Cooling Water (l/m)   \n",
       "\n",
       "                    Col46                  Col47          Col48  \\\n",
       "0  Tip Cooling Flow (l/m)  Oil Cooler Flow (l/m)  VShutPos (mm)   \n",
       "\n",
       "                 Col49          Col50             Col51 Col52  \n",
       "0  DieLub.SprayLe (ml)  \"Vacuum (kPa)  Peak Vacum (kPa)        \n",
       "\n",
       "[1 rows x 52 columns]"
      ]
     },
     "execution_count": 126,
     "metadata": {},
     "output_type": "execute_result"
    }
   ],
   "source": [
    "data"
   ]
  },
  {
   "cell_type": "code",
   "execution_count": null,
   "metadata": {},
   "outputs": [],
   "source": []
  }
 ],
 "metadata": {
  "kernelspec": {
   "display_name": "Python 3",
   "language": "python",
   "name": "python3"
  },
  "language_info": {
   "codemirror_mode": {
    "name": "ipython",
    "version": 3
   },
   "file_extension": ".py",
   "mimetype": "text/x-python",
   "name": "python",
   "nbconvert_exporter": "python",
   "pygments_lexer": "ipython3",
   "version": "3.7.0"
  }
 },
 "nbformat": 4,
 "nbformat_minor": 2
}
